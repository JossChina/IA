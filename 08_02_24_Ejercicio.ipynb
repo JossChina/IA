{
  "nbformat": 4,
  "nbformat_minor": 0,
  "metadata": {
    "colab": {
      "provenance": []
    },
    "kernelspec": {
      "name": "python3",
      "display_name": "Python 3"
    },
    "language_info": {
      "name": "python"
    }
  },
  "cells": [
    {
      "cell_type": "code",
      "execution_count": null,
      "metadata": {
        "id": "1BoZ1F3J5b4f"
      },
      "outputs": [],
      "source": [
        "Programa Que lea un numero e indica si es cero, positivo y negativo"
      ]
    },
    {
      "cell_type": "code",
      "source": [
        "x=int(input(\"Dame un numero: \"))\n",
        "if x == 0:\n",
        "  print(\"Es cero\")\n",
        "elif x > 1:\n",
        "  print(\"Es positivo\")\n",
        "else:\n",
        "  print(\"Es negativo\")\n"
      ],
      "metadata": {
        "id": "yOu954OZ5gn0"
      },
      "execution_count": null,
      "outputs": []
    },
    {
      "cell_type": "markdown",
      "source": [
        "Menu v1:"
      ],
      "metadata": {
        "id": "b1ZhDWyP5kxL"
      }
    },
    {
      "cell_type": "code",
      "source": [
        "print(\"Menu\")\n",
        "opc=0\n",
        "while opc !=4:\n",
        "\n",
        "  print('[1]Imprimir un nombre')\n",
        "  print('[2]Pedir la suma de dos numeros')\n",
        "  print('[3]Cacular el area de un triangulo' )\n",
        "  print('[4]Salir')\n",
        "  opc=(int(input(\"Ingrese una opcion\")))\n",
        "\n",
        "\n",
        "  if opc == 1:\n",
        "    print(\"Has elegido la opcion 1: \")\n",
        "    print(\"Tu nombre es: Joselyn \")\n",
        "\n",
        "  elif opc == 2:\n",
        "    print(\"Has elegido la opcion 2:\")\n",
        "    a=int(input(\"Dame un numero: \"))\n",
        "    b=int(input(\"Dame otro numero: \"))\n",
        "    c = a+b\n",
        "    print(\"el resultado es: \", c)\n",
        "\n",
        "  elif opc == 3:\n",
        "    print(\"Has elegido la opcion 3:\")\n",
        "    base=int(input(\"Dame la base de tu triangulo: \"))\n",
        "    altura=int(input(\"Dame el area de tu triangulo: \"))\n",
        "    area = ((base*altura)/2)\n",
        "    print(\"El area es: \", area)\n",
        "\n",
        "  elif opc == 4:\n",
        "    print(\"Saliendo\")"
      ],
      "metadata": {
        "id": "5-Ruc9_n5nkj"
      },
      "execution_count": null,
      "outputs": []
    },
    {
      "cell_type": "markdown",
      "source": [
        "Menu v2:"
      ],
      "metadata": {
        "id": "D_fjWZ5_5q08"
      }
    },
    {
      "cell_type": "code",
      "source": [
        "print(\"Menu\")\n",
        "opc=0\n",
        "while opc !=4:\n",
        "  print('[1]Imprimir un nombre')\n",
        "  print('[2]Pedir la suma de dos numeros')\n",
        "  print('[3]Cacular el area de un triangulo' )\n",
        "  print('[4]Salir')\n",
        "  opc=(int(input(\"Ingrese una opcion\")))\n",
        "\n",
        "match opc:\n",
        "  case 1:\n",
        "    print(\"Has elegido la opcion 1: \")\n",
        "    print(\"Tu nombre es: Joselyn \")\n",
        "\n",
        "  case 2:\n",
        "    print(\"Has elegido la opcion 2:\")\n",
        "    a=int(input(\"Dame un numero: \"))\n",
        "    b=int(input(\"Dame otro numero: \"))\n",
        "    c = a+b\n",
        "    print(\"el resultado es: \", c)\n",
        "\n",
        "  case 3:\n",
        "    print(\"Has elegido la opcion 3:\")\n",
        "    base=int(input(\"Dame la base de tu triangulo: \"))\n",
        "    altura=int(input(\"Dame el area de tu triangulo: \"))\n",
        "    area = ((base*altura)/2)\n",
        "    print(\"El area es: \", area)\n",
        "\n",
        "  case 4:\n",
        "    print(\"Saliendo\")"
      ],
      "metadata": {
        "id": "HnBmijeK5vKk"
      },
      "execution_count": null,
      "outputs": []
    },
    {
      "cell_type": "markdown",
      "source": [
        "Menu v3:"
      ],
      "metadata": {
        "id": "H4RoFBkZ5yI0"
      }
    },
    {
      "cell_type": "code",
      "source": [
        "def mostrar_menu(opciones):\n",
        "  print('seleccione una opción: ')\n",
        "  for clave in sorted(opciones):\n",
        "    print(f' {clave}) {opciones[clave][0]}')\n",
        "\n",
        "def leer_opcion(opciones):\n",
        "  while(a := input('Opción: ')) not in opciones:\n",
        "    print('Opción incorrecta, vuelva a intentarlo.')\n",
        "  return a\n",
        "\n",
        "def ejecutar_opcion(opcion, opciones):\n",
        "  opciones[opcion][1]()\n",
        "\n",
        "def generar_menu(opciones, opcion_salida):\n",
        "  opcion = None\n",
        "  while opcion != opcion_salida:\n",
        "    mostrar_menu(opciones)\n",
        "    opcion = leer_opcion(opciones)\n",
        "    ejecutar_opcion(opcion, opciones)\n",
        "    print()\n",
        "\n",
        "def menu_principal():\n",
        "  opciones = {\n",
        "    '1': ('Imprimir un nombre', accion1),\n",
        "    '2': ('Pedir la suma de dos numeros', accion2),\n",
        "    '3': ('Cacular el area de un triangulo', accion3 ),\n",
        "    '4': ('Salir', salir)\n",
        "  }\n",
        "  generar_menu(opciones, '4')\n",
        "\n",
        "def accion1():\n",
        "    print('Has elegido la opcion 1: ')\n",
        "    print('Tu nombre es: Joselyn ')\n",
        "\n",
        "def accion2():\n",
        "    print(\"Has elegido la opcion 2:\")\n",
        "    a=int(input(\"Dame un numero: \"))\n",
        "    b=int(input(\"Dame otro numero: \"))\n",
        "    c = a+b\n",
        "    print(\"el resultado es: \", c)\n",
        "\n",
        "def accion3 ():\n",
        "    print(\"Has elegido la opcion 3:\")\n",
        "    base=int(input(\"Dame la base de tu triangulo: \"))\n",
        "    altura=int(input(\"Dame el area de tu triangulo: \"))\n",
        "    area = ((base*altura)/2)\n",
        "    print(\"El area es: \", area)\n",
        "\n",
        "def salir():\n",
        "    print(\"Saliendo\")\n",
        "\n",
        "if __name__== '__main__':\n",
        "  menu_principal()"
      ],
      "metadata": {
        "id": "n3yUiGYl50K9"
      },
      "execution_count": null,
      "outputs": []
    }
  ]
}